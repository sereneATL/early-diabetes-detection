{
 "cells": [
  {
   "cell_type": "markdown",
   "id": "6d28f5d3",
   "metadata": {},
   "source": [
    "# Part 3: Machine learning model training and feature importance"
   ]
  },
  {
   "cell_type": "code",
   "execution_count": 1,
   "id": "5f077a36",
   "metadata": {},
   "outputs": [],
   "source": [
    "# import libraries\n",
    "import pandas as pd\n",
    "\n",
    "from sklearn.model_selection import train_test_split\n",
    "from sklearn.dummy import DummyClassifier\n",
    "from sklearn.linear_model import LogisticRegression\n",
    "from sklearn.tree import DecisionTreeClassifier\n",
    "from sklearn.ensemble import RandomForestClassifier\n",
    "\n",
    "from sklearn.metrics import confusion_matrix, classification_report"
   ]
  },
  {
   "cell_type": "code",
   "execution_count": 2,
   "id": "fe2d4675",
   "metadata": {},
   "outputs": [],
   "source": [
    "# prepare independent and dependent variables\n",
    "df = pd.read_csv(\"diabetes_data_clean.csv\")\n",
    "\n",
    "X = df.drop('class', axis = 1)\n",
    "y = df['class']"
   ]
  },
  {
   "cell_type": "code",
   "execution_count": 3,
   "id": "8014e28b",
   "metadata": {},
   "outputs": [],
   "source": [
    "# split data into train and test data\n",
    "X_train, X_test, y_train, y_test = train_test_split(X, y, test_size = 0.2, stratify = y)"
   ]
  },
  {
   "cell_type": "code",
   "execution_count": 4,
   "id": "0b973d64",
   "metadata": {},
   "outputs": [],
   "source": [
    "# model training\n",
    "# start with DummyClassifier to establish baseline\n",
    "dummy = DummyClassifier()\n",
    "dummy.fit(X_train, y_train)\n",
    "dummy_pred = dummy.predict(X_test)"
   ]
  },
  {
   "cell_type": "code",
   "execution_count": 5,
   "id": "84795781",
   "metadata": {},
   "outputs": [
    {
     "data": {
      "text/plain": [
       "array([[ 0, 40],\n",
       "       [ 0, 64]], dtype=int64)"
      ]
     },
     "execution_count": 5,
     "metadata": {},
     "output_type": "execute_result"
    }
   ],
   "source": [
    "# assess DummyClassifier model using confusion matrix\n",
    "confusion_matrix(y_test, dummy_pred)"
   ]
  },
  {
   "cell_type": "code",
   "execution_count": 6,
   "id": "27c6e49d",
   "metadata": {},
   "outputs": [
    {
     "name": "stdout",
     "output_type": "stream",
     "text": [
      "              precision    recall  f1-score   support\n",
      "\n",
      "           0       0.00      0.00      0.00        40\n",
      "           1       0.62      1.00      0.76        64\n",
      "\n",
      "    accuracy                           0.62       104\n",
      "   macro avg       0.31      0.50      0.38       104\n",
      "weighted avg       0.38      0.62      0.47       104\n",
      "\n"
     ]
    },
    {
     "name": "stderr",
     "output_type": "stream",
     "text": [
      "C:\\Users\\yuenshan\\Anaconda3\\lib\\site-packages\\sklearn\\metrics\\_classification.py:1245: UndefinedMetricWarning: Precision and F-score are ill-defined and being set to 0.0 in labels with no predicted samples. Use `zero_division` parameter to control this behavior.\n",
      "  _warn_prf(average, modifier, msg_start, len(result))\n",
      "C:\\Users\\yuenshan\\Anaconda3\\lib\\site-packages\\sklearn\\metrics\\_classification.py:1245: UndefinedMetricWarning: Precision and F-score are ill-defined and being set to 0.0 in labels with no predicted samples. Use `zero_division` parameter to control this behavior.\n",
      "  _warn_prf(average, modifier, msg_start, len(result))\n",
      "C:\\Users\\yuenshan\\Anaconda3\\lib\\site-packages\\sklearn\\metrics\\_classification.py:1245: UndefinedMetricWarning: Precision and F-score are ill-defined and being set to 0.0 in labels with no predicted samples. Use `zero_division` parameter to control this behavior.\n",
      "  _warn_prf(average, modifier, msg_start, len(result))\n"
     ]
    }
   ],
   "source": [
    "# assess DummyClassifier model using a classification report\n",
    "print(classification_report(y_test, dummy_pred))"
   ]
  },
  {
   "cell_type": "code",
   "execution_count": 17,
   "id": "27daa2d8",
   "metadata": {},
   "outputs": [],
   "source": [
    "# train LogisticRegression model\n",
    "logr = LogisticRegression(max_iter=10000)\n",
    "logr.fit(X_train, y_train)\n",
    "logr_pred = logr.predict(X_test)"
   ]
  },
  {
   "cell_type": "code",
   "execution_count": 18,
   "id": "3bc64ea2",
   "metadata": {},
   "outputs": [
    {
     "data": {
      "text/plain": [
       "array([[39,  1],\n",
       "       [ 2, 62]], dtype=int64)"
      ]
     },
     "execution_count": 18,
     "metadata": {},
     "output_type": "execute_result"
    }
   ],
   "source": [
    "# assess LogisticRegression model using confusion matrix\n",
    "confusion_matrix(y_test, logr_pred)"
   ]
  },
  {
   "cell_type": "code",
   "execution_count": 19,
   "id": "1532d08b",
   "metadata": {},
   "outputs": [
    {
     "name": "stdout",
     "output_type": "stream",
     "text": [
      "              precision    recall  f1-score   support\n",
      "\n",
      "           0       0.95      0.97      0.96        40\n",
      "           1       0.98      0.97      0.98        64\n",
      "\n",
      "    accuracy                           0.97       104\n",
      "   macro avg       0.97      0.97      0.97       104\n",
      "weighted avg       0.97      0.97      0.97       104\n",
      "\n"
     ]
    }
   ],
   "source": [
    "# assess LogisticRegression model using a classification report\n",
    "print(classification_report(y_test, logr_pred))"
   ]
  },
  {
   "cell_type": "markdown",
   "id": "06274b3c",
   "metadata": {},
   "source": [
    "- Compared with our baseline (DummyClassifier), LogisticRegression model performs much better, with an accuracy of 97%, higher than the accuracy of baseline model of 62%. \n",
    "- The false positives rate for LogisticRegression model is also significantly lower than the DummyClassifier model.\n",
    "- The false negatives rate for LogisticRegression model is higher than the baseline model, which is not desirable in a real world scenario (in healthcare).\n",
    "- In the real world scenario for diabetes prediction, a model with lower false negatives would be preferrable (it is better to be falsely diagnosed with diabetes than to false assess someone as diabetes free)."
   ]
  },
  {
   "cell_type": "code",
   "execution_count": 20,
   "id": "42df25a3",
   "metadata": {},
   "outputs": [],
   "source": [
    "# train DecisionTree model\n",
    "tree = DecisionTreeClassifier()\n",
    "tree.fit(X_train, y_train)\n",
    "tree_pred = tree.predict(X_test)"
   ]
  },
  {
   "cell_type": "code",
   "execution_count": 21,
   "id": "ebd822eb",
   "metadata": {},
   "outputs": [
    {
     "data": {
      "text/plain": [
       "array([[39,  1],\n",
       "       [ 1, 63]], dtype=int64)"
      ]
     },
     "execution_count": 21,
     "metadata": {},
     "output_type": "execute_result"
    }
   ],
   "source": [
    "# assess DecisionTree model using confusion matrix\n",
    "confusion_matrix(y_test, tree_pred)"
   ]
  },
  {
   "cell_type": "code",
   "execution_count": 22,
   "id": "df0b0801",
   "metadata": {},
   "outputs": [
    {
     "name": "stdout",
     "output_type": "stream",
     "text": [
      "              precision    recall  f1-score   support\n",
      "\n",
      "           0       0.97      0.97      0.97        40\n",
      "           1       0.98      0.98      0.98        64\n",
      "\n",
      "    accuracy                           0.98       104\n",
      "   macro avg       0.98      0.98      0.98       104\n",
      "weighted avg       0.98      0.98      0.98       104\n",
      "\n"
     ]
    }
   ],
   "source": [
    "# assess DecisionTree model using a classification report\n",
    "print(classification_report(y_test, tree_pred))"
   ]
  },
  {
   "cell_type": "markdown",
   "id": "4c6ecd21",
   "metadata": {},
   "source": [
    "- Compared with our baseline (DummyClassifier), DecisionTree model performs much better, with an accuracy of 98%, higher than the accuracy of baseline model of 62%. \n",
    "- Compared with our LogisticRegression model, DecisionTree model performs slightly better with an accuracy of 98%, higher than the accuracy of LogisticRegression model of 97%.\n",
    "- The false negative rate for DecisionTree model is slightly lower than the LogisticRegression model.\n",
    "- The false positive rate for DecisionTree model is the same as the LogisticRegression model.\n",
    "- Although there is not a significant increase in the accuracy, the false negative rate for DecisionTree model is slightly lower than the LogisticRegression model. In a real world scenario, the DecisionTree model would be a better fit for this problem statement."
   ]
  },
  {
   "cell_type": "code",
   "execution_count": 13,
   "id": "468f1bdb",
   "metadata": {},
   "outputs": [],
   "source": [
    "# train RandomForest model\n",
    "forest = RandomForestClassifier()\n",
    "forest.fit(X_train, y_train)\n",
    "forest_pred = forest.predict(X_test)"
   ]
  },
  {
   "cell_type": "code",
   "execution_count": 14,
   "id": "8627a121",
   "metadata": {},
   "outputs": [
    {
     "data": {
      "text/plain": [
       "array([[40,  0],\n",
       "       [ 1, 63]], dtype=int64)"
      ]
     },
     "execution_count": 14,
     "metadata": {},
     "output_type": "execute_result"
    }
   ],
   "source": [
    "# assess RandomForest model using confusion matrix\n",
    "confusion_matrix(y_test, forest_pred)"
   ]
  },
  {
   "cell_type": "code",
   "execution_count": 15,
   "id": "0dff610a",
   "metadata": {},
   "outputs": [
    {
     "name": "stdout",
     "output_type": "stream",
     "text": [
      "              precision    recall  f1-score   support\n",
      "\n",
      "           0       0.98      1.00      0.99        40\n",
      "           1       1.00      0.98      0.99        64\n",
      "\n",
      "    accuracy                           0.99       104\n",
      "   macro avg       0.99      0.99      0.99       104\n",
      "weighted avg       0.99      0.99      0.99       104\n",
      "\n"
     ]
    }
   ],
   "source": [
    "# assess RandomForest model using a classification report\n",
    "print(classification_report(y_test, forest_pred))"
   ]
  },
  {
   "cell_type": "markdown",
   "id": "27ce5121",
   "metadata": {},
   "source": [
    "- Compared with our baseline (DummyClassifier), RandomForest model performs much better, with an accuracy of 99%, higher than the accuracy of baseline model of 62%. \n",
    "- Compared with our LogisticRegression and DecisionTree, RandomForest model performs slightly better, with an accuracy of 98%, higher than the accuracy of both LogisticRegression and DecisionTree. \n",
    "- The false positive rate for RandomForest model is zero, which is lower than all the other models.\n",
    "- The false negative rate for RandomForest model is one, which is the same as DecisionTree anad lower than all the other models.\n",
    "- It can be concluded that RandomForest is the best performing model, with accuracy of 99%, precision of 1, recall of 0.97 and f1 score of 0.99\n",
    "- With the lowest false negative rate of one, and lowest false positive rate of zero, this model would be the best fit in the real world scenario."
   ]
  },
  {
   "cell_type": "code",
   "execution_count": 16,
   "id": "3fde4f57",
   "metadata": {},
   "outputs": [
    {
     "data": {
      "text/html": [
       "<div>\n",
       "<style scoped>\n",
       "    .dataframe tbody tr th:only-of-type {\n",
       "        vertical-align: middle;\n",
       "    }\n",
       "\n",
       "    .dataframe tbody tr th {\n",
       "        vertical-align: top;\n",
       "    }\n",
       "\n",
       "    .dataframe thead th {\n",
       "        text-align: right;\n",
       "    }\n",
       "</style>\n",
       "<table border=\"1\" class=\"dataframe\">\n",
       "  <thead>\n",
       "    <tr style=\"text-align: right;\">\n",
       "      <th></th>\n",
       "      <th>feature</th>\n",
       "      <th>importance</th>\n",
       "    </tr>\n",
       "  </thead>\n",
       "  <tbody>\n",
       "    <tr>\n",
       "      <th>2</th>\n",
       "      <td>polyuria</td>\n",
       "      <td>0.225614</td>\n",
       "    </tr>\n",
       "    <tr>\n",
       "      <th>3</th>\n",
       "      <td>polydipsia</td>\n",
       "      <td>0.198683</td>\n",
       "    </tr>\n",
       "    <tr>\n",
       "      <th>1</th>\n",
       "      <td>ismale</td>\n",
       "      <td>0.095163</td>\n",
       "    </tr>\n",
       "    <tr>\n",
       "      <th>0</th>\n",
       "      <td>age</td>\n",
       "      <td>0.095106</td>\n",
       "    </tr>\n",
       "    <tr>\n",
       "      <th>12</th>\n",
       "      <td>partial paresis</td>\n",
       "      <td>0.050188</td>\n",
       "    </tr>\n",
       "    <tr>\n",
       "      <th>4</th>\n",
       "      <td>sudden weight loss</td>\n",
       "      <td>0.045033</td>\n",
       "    </tr>\n",
       "    <tr>\n",
       "      <th>14</th>\n",
       "      <td>alopecia</td>\n",
       "      <td>0.040403</td>\n",
       "    </tr>\n",
       "    <tr>\n",
       "      <th>10</th>\n",
       "      <td>irritability</td>\n",
       "      <td>0.039587</td>\n",
       "    </tr>\n",
       "    <tr>\n",
       "      <th>11</th>\n",
       "      <td>delayed healing</td>\n",
       "      <td>0.038481</td>\n",
       "    </tr>\n",
       "    <tr>\n",
       "      <th>9</th>\n",
       "      <td>itching</td>\n",
       "      <td>0.031948</td>\n",
       "    </tr>\n",
       "    <tr>\n",
       "      <th>8</th>\n",
       "      <td>visual blurring</td>\n",
       "      <td>0.027242</td>\n",
       "    </tr>\n",
       "    <tr>\n",
       "      <th>6</th>\n",
       "      <td>polyphagia</td>\n",
       "      <td>0.025496</td>\n",
       "    </tr>\n",
       "    <tr>\n",
       "      <th>13</th>\n",
       "      <td>muscle stiffness</td>\n",
       "      <td>0.023761</td>\n",
       "    </tr>\n",
       "    <tr>\n",
       "      <th>15</th>\n",
       "      <td>obesity</td>\n",
       "      <td>0.021664</td>\n",
       "    </tr>\n",
       "    <tr>\n",
       "      <th>5</th>\n",
       "      <td>weakness</td>\n",
       "      <td>0.021397</td>\n",
       "    </tr>\n",
       "    <tr>\n",
       "      <th>7</th>\n",
       "      <td>genital thrush</td>\n",
       "      <td>0.020232</td>\n",
       "    </tr>\n",
       "  </tbody>\n",
       "</table>\n",
       "</div>"
      ],
      "text/plain": [
       "               feature  importance\n",
       "2             polyuria    0.225614\n",
       "3           polydipsia    0.198683\n",
       "1               ismale    0.095163\n",
       "0                  age    0.095106\n",
       "12     partial paresis    0.050188\n",
       "4   sudden weight loss    0.045033\n",
       "14            alopecia    0.040403\n",
       "10        irritability    0.039587\n",
       "11     delayed healing    0.038481\n",
       "9              itching    0.031948\n",
       "8      visual blurring    0.027242\n",
       "6           polyphagia    0.025496\n",
       "13    muscle stiffness    0.023761\n",
       "15             obesity    0.021664\n",
       "5             weakness    0.021397\n",
       "7       genital thrush    0.020232"
      ]
     },
     "execution_count": 16,
     "metadata": {},
     "output_type": "execute_result"
    }
   ],
   "source": [
    "# feature importances for random forest model training\n",
    "pd.DataFrame({'feature': X.columns, \n",
    "              'importance': forest.feature_importances_}).sort_values('importance', ascending=False)"
   ]
  },
  {
   "cell_type": "markdown",
   "id": "fffad2f6",
   "metadata": {},
   "source": [
    "It can be seen that in this model, the features that contributes the most importance, or affects the results of the prediction is polyuria and polydipsia. \n",
    "<br>\n",
    "gender is also quite significant feature, followed by age."
   ]
  }
 ],
 "metadata": {
  "kernelspec": {
   "display_name": "Python 3",
   "language": "python",
   "name": "python3"
  },
  "language_info": {
   "codemirror_mode": {
    "name": "ipython",
    "version": 3
   },
   "file_extension": ".py",
   "mimetype": "text/x-python",
   "name": "python",
   "nbconvert_exporter": "python",
   "pygments_lexer": "ipython3",
   "version": "3.8.8"
  }
 },
 "nbformat": 4,
 "nbformat_minor": 5
}
